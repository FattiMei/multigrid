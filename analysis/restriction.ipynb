{
 "cells": [
  {
   "cell_type": "markdown",
   "id": "92771615",
   "metadata": {},
   "source": [
    "# Analysis of multigrid restriction and prolongation\n",
    "1D Poisson problem, discretized with a second order finite difference formula, yields the following linear system"
   ]
  },
  {
   "cell_type": "code",
   "execution_count": 22,
   "id": "ff919032",
   "metadata": {},
   "outputs": [
    {
     "data": {
      "text/latex": [
       "$\\displaystyle \\left[\\begin{matrix}1 & 0 & 0 & 0 & 0 & 0 & 0 & 0 & 0\\\\- \\frac{1}{h^{2}} & \\frac{2}{h^{2}} & - \\frac{1}{h^{2}} & 0 & 0 & 0 & 0 & 0 & 0\\\\0 & - \\frac{1}{h^{2}} & \\frac{2}{h^{2}} & - \\frac{1}{h^{2}} & 0 & 0 & 0 & 0 & 0\\\\0 & 0 & - \\frac{1}{h^{2}} & \\frac{2}{h^{2}} & - \\frac{1}{h^{2}} & 0 & 0 & 0 & 0\\\\0 & 0 & 0 & - \\frac{1}{h^{2}} & \\frac{2}{h^{2}} & - \\frac{1}{h^{2}} & 0 & 0 & 0\\\\0 & 0 & 0 & 0 & - \\frac{1}{h^{2}} & \\frac{2}{h^{2}} & - \\frac{1}{h^{2}} & 0 & 0\\\\0 & 0 & 0 & 0 & 0 & - \\frac{1}{h^{2}} & \\frac{2}{h^{2}} & - \\frac{1}{h^{2}} & 0\\\\0 & 0 & 0 & 0 & 0 & 0 & - \\frac{1}{h^{2}} & \\frac{2}{h^{2}} & - \\frac{1}{h^{2}}\\\\0 & 0 & 0 & 0 & 0 & 0 & 0 & 0 & 1\\end{matrix}\\right]$"
      ],
      "text/plain": [
       "⎡ 1    0    0    0    0    0    0    0    0 ⎤\n",
       "⎢                                           ⎥\n",
       "⎢-1   2    -1                               ⎥\n",
       "⎢───  ──   ───   0    0    0    0    0    0 ⎥\n",
       "⎢  2   2     2                              ⎥\n",
       "⎢ h   h     h                               ⎥\n",
       "⎢                                           ⎥\n",
       "⎢     -1   2    -1                          ⎥\n",
       "⎢ 0   ───  ──   ───   0    0    0    0    0 ⎥\n",
       "⎢       2   2     2                         ⎥\n",
       "⎢      h   h     h                          ⎥\n",
       "⎢                                           ⎥\n",
       "⎢          -1   2    -1                     ⎥\n",
       "⎢ 0    0   ───  ──   ───   0    0    0    0 ⎥\n",
       "⎢            2   2     2                    ⎥\n",
       "⎢           h   h     h                     ⎥\n",
       "⎢                                           ⎥\n",
       "⎢               -1   2    -1                ⎥\n",
       "⎢ 0    0    0   ───  ──   ───   0    0    0 ⎥\n",
       "⎢                 2   2     2               ⎥\n",
       "⎢                h   h     h                ⎥\n",
       "⎢                                           ⎥\n",
       "⎢                    -1   2    -1           ⎥\n",
       "⎢ 0    0    0    0   ───  ──   ───   0    0 ⎥\n",
       "⎢                      2   2     2          ⎥\n",
       "⎢                     h   h     h           ⎥\n",
       "⎢                                           ⎥\n",
       "⎢                         -1   2    -1      ⎥\n",
       "⎢ 0    0    0    0    0   ───  ──   ───   0 ⎥\n",
       "⎢                           2   2     2     ⎥\n",
       "⎢                          h   h     h      ⎥\n",
       "⎢                                           ⎥\n",
       "⎢                              -1   2    -1 ⎥\n",
       "⎢ 0    0    0    0    0    0   ───  ──   ───⎥\n",
       "⎢                                2   2     2⎥\n",
       "⎢                               h   h     h ⎥\n",
       "⎢                                           ⎥\n",
       "⎣ 0    0    0    0    0    0    0    0    1 ⎦"
      ]
     },
     "execution_count": 22,
     "metadata": {},
     "output_type": "execute_result"
    }
   ],
   "source": [
    "import sympy as sym\n",
    "sym.init_printing()\n",
    "\n",
    "\n",
    "h = sym.symbols('h')\n",
    "n = 9\n",
    "m = 1 + (n-1)//2\n",
    "\n",
    "\n",
    "def build_poisson_operator(n):\n",
    "    A = sym.zeros(n,n)\n",
    "    \n",
    "    A[0,0] = 1\n",
    "    A[n-1,n-1] = 1\n",
    "    \n",
    "    for i in range(1,n-1):\n",
    "        A[i,i-1] = -1 / h**2\n",
    "        A[i,i]   =  2 / h**2\n",
    "        A[i,i+1] = -1 / h**2\n",
    "        \n",
    "    return A\n",
    "\n",
    "A = build_poisson_operator(n)\n",
    "A"
   ]
  },
  {
   "cell_type": "markdown",
   "id": "0969d28d",
   "metadata": {},
   "source": [
    "The projection on a coarser grid is supposed to work on smooth error components. As for \"A multigrid tutorial\" the operator for relaxing on the coarser grid is:\n",
    "\n",
    "$$ A^{2h} := I_{h}^{2h}A^{h}I_{2h}^{h} $$\n",
    "\n",
    "There is freedom in determining the restriction and prolongation operators, but it is advisable that\n",
    "\n",
    "$$ I_{h}^{2h} = c(I_{2h}^{h})^{T} $$\n",
    "\n",
    "A careful choice results in $A^{2h}$ being the matrix of the original problem, discretized on a grid double the size. That is desirable because it simplifies the solver\n",
    "\n"
   ]
  },
  {
   "cell_type": "markdown",
   "id": "1cbe657b",
   "metadata": {},
   "source": [
    "## Naive choices"
   ]
  },
  {
   "cell_type": "code",
   "execution_count": 23,
   "id": "8644fa1c",
   "metadata": {},
   "outputs": [
    {
     "data": {
      "text/latex": [
       "$\\displaystyle \\left[\\begin{matrix}1 & 0 & 0 & 0 & 0 & 0 & 0 & 0 & 0\\\\0 & 0 & 1 & 0 & 0 & 0 & 0 & 0 & 0\\\\0 & 0 & 0 & 0 & 1 & 0 & 0 & 0 & 0\\\\0 & 0 & 0 & 0 & 0 & 0 & 1 & 0 & 0\\\\0 & 0 & 0 & 0 & 0 & 0 & 0 & 0 & 1\\end{matrix}\\right]$"
      ],
      "text/plain": [
       "⎡1  0  0  0  0  0  0  0  0⎤\n",
       "⎢                         ⎥\n",
       "⎢0  0  1  0  0  0  0  0  0⎥\n",
       "⎢                         ⎥\n",
       "⎢0  0  0  0  1  0  0  0  0⎥\n",
       "⎢                         ⎥\n",
       "⎢0  0  0  0  0  0  1  0  0⎥\n",
       "⎢                         ⎥\n",
       "⎣0  0  0  0  0  0  0  0  1⎦"
      ]
     },
     "execution_count": 23,
     "metadata": {},
     "output_type": "execute_result"
    }
   ],
   "source": [
    "def injective_restriction(n):\n",
    "    m = 1 + (n-1)//2\n",
    "    R = sym.zeros(m,n)\n",
    "    \n",
    "    for i in range(m):\n",
    "        R[i,2*i] = 1\n",
    "        \n",
    "    return R\n",
    "\n",
    "injective_restriction(n)"
   ]
  },
  {
   "cell_type": "code",
   "execution_count": 3,
   "id": "405e0c27",
   "metadata": {},
   "outputs": [
    {
     "data": {
      "text/latex": [
       "$\\displaystyle \\left[\\begin{matrix}1 & 0 & 0 & 0 & 0\\\\0 & 0 & 1 & 0 & 0\\\\0 & 0 & 0 & 0 & 1\\end{matrix}\\right]$"
      ],
      "text/plain": [
       "⎡1  0  0  0  0⎤\n",
       "⎢             ⎥\n",
       "⎢0  0  1  0  0⎥\n",
       "⎢             ⎥\n",
       "⎣0  0  0  0  1⎦"
      ]
     },
     "execution_count": 3,
     "metadata": {},
     "output_type": "execute_result"
    }
   ],
   "source": [
    "simple_projection(n)"
   ]
  },
  {
   "cell_type": "code",
   "execution_count": 26,
   "id": "1b858a9b",
   "metadata": {},
   "outputs": [
    {
     "data": {
      "text/latex": [
       "$\\displaystyle \\left[\\begin{matrix}1 & 0 & 0 & 0 & 0\\\\\\frac{1}{2} & \\frac{1}{2} & 0 & 0 & 0\\\\0 & 1 & 0 & 0 & 0\\\\0 & \\frac{1}{2} & \\frac{1}{2} & 0 & 0\\\\0 & 0 & 1 & 0 & 0\\\\0 & 0 & \\frac{1}{2} & \\frac{1}{2} & 0\\\\0 & 0 & 0 & 1 & 0\\\\0 & 0 & 0 & \\frac{1}{2} & \\frac{1}{2}\\\\0 & 0 & 0 & 0 & 1\\end{matrix}\\right]$"
      ],
      "text/plain": [
       "⎡ 1    0    0    0    0 ⎤\n",
       "⎢                       ⎥\n",
       "⎢1/2  1/2   0    0    0 ⎥\n",
       "⎢                       ⎥\n",
       "⎢ 0    1    0    0    0 ⎥\n",
       "⎢                       ⎥\n",
       "⎢ 0   1/2  1/2   0    0 ⎥\n",
       "⎢                       ⎥\n",
       "⎢ 0    0    1    0    0 ⎥\n",
       "⎢                       ⎥\n",
       "⎢ 0    0   1/2  1/2   0 ⎥\n",
       "⎢                       ⎥\n",
       "⎢ 0    0    0    1    0 ⎥\n",
       "⎢                       ⎥\n",
       "⎢ 0    0    0   1/2  1/2⎥\n",
       "⎢                       ⎥\n",
       "⎣ 0    0    0    0    1 ⎦"
      ]
     },
     "execution_count": 26,
     "metadata": {},
     "output_type": "execute_result"
    }
   ],
   "source": [
    "def linear_prolongation(m):\n",
    "    n = 2 * (m - 1) + 1\n",
    "    P = sym.zeros(n,m)\n",
    "    \n",
    "    for i in range(n):\n",
    "        if i % 2 == 0:\n",
    "            P[i,i//2] = 1\n",
    "        else:\n",
    "            P[i,i//2]     = sym.nsimplify(0.5)\n",
    "            P[i,(i+1)//2] = sym.nsimplify(0.5)\n",
    "            \n",
    "    return P\n",
    "\n",
    "linear_prolongation(m)"
   ]
  },
  {
   "cell_type": "code",
   "execution_count": 31,
   "id": "b2b68967",
   "metadata": {},
   "outputs": [
    {
     "data": {
      "text/latex": [
       "$\\displaystyle \\left[\\begin{matrix}1 & 0 & 0 & 0 & 0\\\\- \\frac{1}{2 h^{2}} & \\frac{1}{h^{2}} & - \\frac{1}{2 h^{2}} & 0 & 0\\\\0 & - \\frac{1}{2 h^{2}} & \\frac{1}{h^{2}} & - \\frac{1}{2 h^{2}} & 0\\\\0 & 0 & - \\frac{1}{2 h^{2}} & \\frac{1}{h^{2}} & - \\frac{1}{2 h^{2}}\\\\0 & 0 & 0 & 0 & 1\\end{matrix}\\right]$"
      ],
      "text/plain": [
       "⎡ 1     0     0     0     0  ⎤\n",
       "⎢                            ⎥\n",
       "⎢-1     1    -1              ⎥\n",
       "⎢────   ──   ────   0     0  ⎥\n",
       "⎢   2    2      2            ⎥\n",
       "⎢2⋅h    h    2⋅h             ⎥\n",
       "⎢                            ⎥\n",
       "⎢      -1     1    -1        ⎥\n",
       "⎢ 0    ────   ──   ────   0  ⎥\n",
       "⎢         2    2      2      ⎥\n",
       "⎢      2⋅h    h    2⋅h       ⎥\n",
       "⎢                            ⎥\n",
       "⎢            -1     1    -1  ⎥\n",
       "⎢ 0     0    ────   ──   ────⎥\n",
       "⎢               2    2      2⎥\n",
       "⎢            2⋅h    h    2⋅h ⎥\n",
       "⎢                            ⎥\n",
       "⎣ 0     0     0     0     1  ⎦"
      ]
     },
     "execution_count": 31,
     "metadata": {},
     "output_type": "execute_result"
    }
   ],
   "source": [
    "injective_restriction(n) @ A @ linear_prolongation(m)"
   ]
  },
  {
   "cell_type": "code",
   "execution_count": 32,
   "id": "d4bf91f8",
   "metadata": {},
   "outputs": [
    {
     "data": {
      "text/latex": [
       "$\\displaystyle \\left[\\begin{matrix}1 & 0 & 0 & 0 & 0\\\\- \\frac{1}{2 h^{2}} & \\frac{1}{h^{2}} & - \\frac{1}{2 h^{2}} & 0 & 0\\\\0 & - \\frac{1}{2 h^{2}} & \\frac{1}{h^{2}} & - \\frac{1}{2 h^{2}} & 0\\\\0 & 0 & - \\frac{1}{2 h^{2}} & \\frac{1}{h^{2}} & - \\frac{1}{2 h^{2}}\\\\0 & 0 & 0 & 0 & 1\\end{matrix}\\right]$"
      ],
      "text/plain": [
       "⎡ 1     0     0     0     0  ⎤\n",
       "⎢                            ⎥\n",
       "⎢-1     1    -1              ⎥\n",
       "⎢────   ──   ────   0     0  ⎥\n",
       "⎢   2    2      2            ⎥\n",
       "⎢2⋅h    h    2⋅h             ⎥\n",
       "⎢                            ⎥\n",
       "⎢      -1     1    -1        ⎥\n",
       "⎢ 0    ────   ──   ────   0  ⎥\n",
       "⎢         2    2      2      ⎥\n",
       "⎢      2⋅h    h    2⋅h       ⎥\n",
       "⎢                            ⎥\n",
       "⎢            -1     1    -1  ⎥\n",
       "⎢ 0     0    ────   ──   ────⎥\n",
       "⎢               2    2      2⎥\n",
       "⎢            2⋅h    h    2⋅h ⎥\n",
       "⎢                            ⎥\n",
       "⎣ 0     0     0     0     1  ⎦"
      ]
     },
     "execution_count": 32,
     "metadata": {},
     "output_type": "execute_result"
    }
   ],
   "source": [
    "linear_prolongation(m).T @ A @ linear_prolongation(m)"
   ]
  },
  {
   "cell_type": "markdown",
   "id": "b9a6484a",
   "metadata": {},
   "source": [
    "## Full weight restriction"
   ]
  },
  {
   "cell_type": "code",
   "execution_count": 66,
   "id": "1793664d",
   "metadata": {},
   "outputs": [
    {
     "data": {
      "text/latex": [
       "$\\displaystyle \\left[\\begin{matrix}1 & 0 & 0 & 0 & 0 & 0 & 0 & 0 & 0\\\\0 & \\frac{1}{4} & \\frac{1}{2} & \\frac{1}{4} & 0 & 0 & 0 & 0 & 0\\\\0 & 0 & 0 & \\frac{1}{4} & \\frac{1}{2} & \\frac{1}{4} & 0 & 0 & 0\\\\0 & 0 & 0 & 0 & 0 & \\frac{1}{4} & \\frac{1}{2} & \\frac{1}{4} & 0\\\\0 & 0 & 0 & 0 & 0 & 0 & 0 & 0 & 1\\end{matrix}\\right]$"
      ],
      "text/plain": [
       "⎡1   0    0    0    0    0    0    0   0⎤\n",
       "⎢                                       ⎥\n",
       "⎢0  1/4  1/2  1/4   0    0    0    0   0⎥\n",
       "⎢                                       ⎥\n",
       "⎢0   0    0   1/4  1/2  1/4   0    0   0⎥\n",
       "⎢                                       ⎥\n",
       "⎢0   0    0    0    0   1/4  1/2  1/4  0⎥\n",
       "⎢                                       ⎥\n",
       "⎣0   0    0    0    0    0    0    0   1⎦"
      ]
     },
     "execution_count": 66,
     "metadata": {},
     "output_type": "execute_result"
    }
   ],
   "source": [
    "def full_weight_restriction(n):\n",
    "    m = 1 + (n-1)//2\n",
    "    \n",
    "    R = sym.zeros(m,n)\n",
    "    R[0,0]   = 1\n",
    "    R[-1,-1] = 1\n",
    "    \n",
    "    for i in range(1,m-1):\n",
    "        R[i,2*i-1] = sym.nsimplify(0.25)\n",
    "        R[i,2*i]   = sym.nsimplify(0.5)\n",
    "        R[i,2*i+1] = sym.nsimplify(0.25)\n",
    "    \n",
    "    return R\n",
    "\n",
    "full_weight_restriction(n)"
   ]
  },
  {
   "cell_type": "code",
   "execution_count": 68,
   "id": "ef9401e9",
   "metadata": {},
   "outputs": [
    {
     "data": {
      "text/latex": [
       "$\\displaystyle \\left[\\begin{matrix}2 & 0 & 0 & 0 & 0\\\\0 & \\frac{1}{2} & 0 & 0 & 0\\\\0 & 1 & 0 & 0 & 0\\\\0 & \\frac{1}{2} & \\frac{1}{2} & 0 & 0\\\\0 & 0 & 1 & 0 & 0\\\\0 & 0 & \\frac{1}{2} & \\frac{1}{2} & 0\\\\0 & 0 & 0 & 1 & 0\\\\0 & 0 & 0 & \\frac{1}{2} & 0\\\\0 & 0 & 0 & 0 & 2\\end{matrix}\\right]$"
      ],
      "text/plain": [
       "⎡2   0    0    0   0⎤\n",
       "⎢                   ⎥\n",
       "⎢0  1/2   0    0   0⎥\n",
       "⎢                   ⎥\n",
       "⎢0   1    0    0   0⎥\n",
       "⎢                   ⎥\n",
       "⎢0  1/2  1/2   0   0⎥\n",
       "⎢                   ⎥\n",
       "⎢0   0    1    0   0⎥\n",
       "⎢                   ⎥\n",
       "⎢0   0   1/2  1/2  0⎥\n",
       "⎢                   ⎥\n",
       "⎢0   0    0    1   0⎥\n",
       "⎢                   ⎥\n",
       "⎢0   0    0   1/2  0⎥\n",
       "⎢                   ⎥\n",
       "⎣0   0    0    0   2⎦"
      ]
     },
     "execution_count": 68,
     "metadata": {},
     "output_type": "execute_result"
    }
   ],
   "source": [
    "def full_weight_prolongation(m):\n",
    "    n = 1 + 2*(m-1)\n",
    "    \n",
    "    return 2 * full_weight_restriction(n).T\n",
    "\n",
    "full_weight_prolongation(m)"
   ]
  },
  {
   "cell_type": "code",
   "execution_count": 70,
   "id": "bb813416",
   "metadata": {},
   "outputs": [
    {
     "data": {
      "text/latex": [
       "$\\displaystyle \\left[\\begin{matrix}2 & 0 & 0 & 0 & 0\\\\- \\frac{1}{2 h^{2}} & \\frac{1}{2 h^{2}} & - \\frac{1}{4 h^{2}} & 0 & 0\\\\0 & - \\frac{1}{4 h^{2}} & \\frac{1}{2 h^{2}} & - \\frac{1}{4 h^{2}} & 0\\\\0 & 0 & - \\frac{1}{4 h^{2}} & \\frac{1}{2 h^{2}} & - \\frac{1}{2 h^{2}}\\\\0 & 0 & 0 & 0 & 2\\end{matrix}\\right]$"
      ],
      "text/plain": [
       "⎡ 2     0     0     0     0  ⎤\n",
       "⎢                            ⎥\n",
       "⎢-1     1    -1              ⎥\n",
       "⎢────  ────  ────   0     0  ⎥\n",
       "⎢   2     2     2            ⎥\n",
       "⎢2⋅h   2⋅h   4⋅h             ⎥\n",
       "⎢                            ⎥\n",
       "⎢      -1     1    -1        ⎥\n",
       "⎢ 0    ────  ────  ────   0  ⎥\n",
       "⎢         2     2     2      ⎥\n",
       "⎢      4⋅h   2⋅h   4⋅h       ⎥\n",
       "⎢                            ⎥\n",
       "⎢            -1     1    -1  ⎥\n",
       "⎢ 0     0    ────  ────  ────⎥\n",
       "⎢               2     2     2⎥\n",
       "⎢            4⋅h   2⋅h   2⋅h ⎥\n",
       "⎢                            ⎥\n",
       "⎣ 0     0     0     0     2  ⎦"
      ]
     },
     "execution_count": 70,
     "metadata": {},
     "output_type": "execute_result"
    }
   ],
   "source": [
    "full_weight_restriction(n) @ A @ full_weight_prolongation(m)"
   ]
  },
  {
   "cell_type": "markdown",
   "id": "47c57d96",
   "metadata": {},
   "source": [
    "That corresponds to the stencil of the discretization with spatial step $2h$, except for the boundary terms. That is still ok because the error and residuals at the boundary are always zero."
   ]
  }
 ],
 "metadata": {
  "kernelspec": {
   "display_name": "Python 3 (ipykernel)",
   "language": "python",
   "name": "python3"
  },
  "language_info": {
   "codemirror_mode": {
    "name": "ipython",
    "version": 3
   },
   "file_extension": ".py",
   "mimetype": "text/x-python",
   "name": "python",
   "nbconvert_exporter": "python",
   "pygments_lexer": "ipython3",
   "version": "3.8.10"
  }
 },
 "nbformat": 4,
 "nbformat_minor": 5
}
