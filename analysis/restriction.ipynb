{
 "cells": [
  {
   "cell_type": "markdown",
   "id": "92771615",
   "metadata": {},
   "source": [
    "# Understand the prolongation and restriction operators"
   ]
  },
  {
   "cell_type": "code",
   "execution_count": 1,
   "id": "ff919032",
   "metadata": {},
   "outputs": [],
   "source": [
    "import sympy as sym\n",
    "sym.init_printing()\n",
    "\n",
    "\n",
    "h = sym.symbols('h')\n",
    "\n",
    "\n",
    "def build_poisson_operator(n):\n",
    "    A = sym.zeros(n,n)\n",
    "    \n",
    "    A[0,0] = 1\n",
    "    A[n-1,n-1] = 1\n",
    "    \n",
    "    for i in range(1,n-1):\n",
    "        A[i,i-1] = -1 / h**2\n",
    "        A[i,i]   =  2 / h**2\n",
    "        A[i,i+1] = -1 / h**2\n",
    "        \n",
    "    return A"
   ]
  },
  {
   "cell_type": "code",
   "execution_count": 2,
   "id": "9e21a105",
   "metadata": {},
   "outputs": [
    {
     "data": {
      "text/latex": [
       "$\\displaystyle \\left[\\begin{matrix}1 & 0 & 0 & 0 & 0\\\\- \\frac{1}{h^{2}} & \\frac{2}{h^{2}} & - \\frac{1}{h^{2}} & 0 & 0\\\\0 & - \\frac{1}{h^{2}} & \\frac{2}{h^{2}} & - \\frac{1}{h^{2}} & 0\\\\0 & 0 & - \\frac{1}{h^{2}} & \\frac{2}{h^{2}} & - \\frac{1}{h^{2}}\\\\0 & 0 & 0 & 0 & 1\\end{matrix}\\right]$"
      ],
      "text/plain": [
       "⎡ 1    0    0    0    0 ⎤\n",
       "⎢                       ⎥\n",
       "⎢-1   2    -1           ⎥\n",
       "⎢───  ──   ───   0    0 ⎥\n",
       "⎢  2   2     2          ⎥\n",
       "⎢ h   h     h           ⎥\n",
       "⎢                       ⎥\n",
       "⎢     -1   2    -1      ⎥\n",
       "⎢ 0   ───  ──   ───   0 ⎥\n",
       "⎢       2   2     2     ⎥\n",
       "⎢      h   h     h      ⎥\n",
       "⎢                       ⎥\n",
       "⎢          -1   2    -1 ⎥\n",
       "⎢ 0    0   ───  ──   ───⎥\n",
       "⎢            2   2     2⎥\n",
       "⎢           h   h     h ⎥\n",
       "⎢                       ⎥\n",
       "⎣ 0    0    0    0    1 ⎦"
      ]
     },
     "execution_count": 2,
     "metadata": {},
     "output_type": "execute_result"
    }
   ],
   "source": [
    "build_poisson_operator(5)"
   ]
  },
  {
   "cell_type": "markdown",
   "id": "0969d28d",
   "metadata": {},
   "source": [
    "Use the inclusion to project onto the coarser grid. This strategy is easy but the corresponding prolongation operator is silly"
   ]
  },
  {
   "cell_type": "code",
   "execution_count": 3,
   "id": "8644fa1c",
   "metadata": {},
   "outputs": [],
   "source": [
    "def simple_projection(n):\n",
    "    m = 1 + (n-1)//2\n",
    "    R = sym.zeros(m,n)\n",
    "    \n",
    "    for i in range(m):\n",
    "        R[i,2*i] = 1\n",
    "        \n",
    "    return R"
   ]
  },
  {
   "cell_type": "code",
   "execution_count": 4,
   "id": "405e0c27",
   "metadata": {},
   "outputs": [
    {
     "data": {
      "text/latex": [
       "$\\displaystyle \\left[\\begin{matrix}1 & 0 & 0 & 0 & 0\\\\0 & 0 & 1 & 0 & 0\\\\0 & 0 & 0 & 0 & 1\\end{matrix}\\right]$"
      ],
      "text/plain": [
       "⎡1  0  0  0  0⎤\n",
       "⎢             ⎥\n",
       "⎢0  0  1  0  0⎥\n",
       "⎢             ⎥\n",
       "⎣0  0  0  0  1⎦"
      ]
     },
     "execution_count": 4,
     "metadata": {},
     "output_type": "execute_result"
    }
   ],
   "source": [
    "simple_projection(5)"
   ]
  },
  {
   "cell_type": "markdown",
   "id": "79c6fb89",
   "metadata": {},
   "source": [
    "The restricted operator when applied the formula\n",
    "$A^{2h} = RA^{h}R^{t}$"
   ]
  },
  {
   "cell_type": "code",
   "execution_count": 5,
   "id": "1b858a9b",
   "metadata": {},
   "outputs": [
    {
     "data": {
      "text/latex": [
       "$\\displaystyle \\left[\\begin{matrix}1 & 0 & 0 & 0 & 0\\\\0 & \\frac{2}{h^{2}} & 0 & 0 & 0\\\\0 & 0 & \\frac{2}{h^{2}} & 0 & 0\\\\0 & 0 & 0 & \\frac{2}{h^{2}} & 0\\\\0 & 0 & 0 & 0 & 1\\end{matrix}\\right]$"
      ],
      "text/plain": [
       "⎡1  0   0   0   0⎤\n",
       "⎢                ⎥\n",
       "⎢   2            ⎥\n",
       "⎢0  ──  0   0   0⎥\n",
       "⎢    2           ⎥\n",
       "⎢   h            ⎥\n",
       "⎢                ⎥\n",
       "⎢       2        ⎥\n",
       "⎢0  0   ──  0   0⎥\n",
       "⎢        2       ⎥\n",
       "⎢       h        ⎥\n",
       "⎢                ⎥\n",
       "⎢           2    ⎥\n",
       "⎢0  0   0   ──  0⎥\n",
       "⎢            2   ⎥\n",
       "⎢           h    ⎥\n",
       "⎢                ⎥\n",
       "⎣0  0   0   0   1⎦"
      ]
     },
     "execution_count": 5,
     "metadata": {},
     "output_type": "execute_result"
    }
   ],
   "source": [
    "n = 9\n",
    "A = build_poisson_operator(n)\n",
    "R = simple_projection(n)\n",
    "\n",
    "R @ A @ R.T"
   ]
  },
  {
   "cell_type": "markdown",
   "id": "90269d71",
   "metadata": {},
   "source": [
    "This feels wrong. It's like the simpler system is a Jacobi preconditioner of the original problem"
   ]
  },
  {
   "cell_type": "markdown",
   "id": "b9a6484a",
   "metadata": {},
   "source": [
    "## Starting from a good prolongation"
   ]
  },
  {
   "cell_type": "code",
   "execution_count": 6,
   "id": "21f08dca",
   "metadata": {},
   "outputs": [],
   "source": [
    "def prolongation(m):\n",
    "    n = 2 * (m - 1) + 1\n",
    "    P = sym.zeros(n,m)\n",
    "    \n",
    "    for i in range(n):\n",
    "        if i % 2 == 0:\n",
    "            P[i,i//2] = 1\n",
    "        else:\n",
    "            P[i,i//2]     = sym.nsimplify(0.5)\n",
    "            P[i,(i+1)//2] = sym.nsimplify(0.5)\n",
    "            \n",
    "    return P"
   ]
  },
  {
   "cell_type": "code",
   "execution_count": 7,
   "id": "910f3c49",
   "metadata": {},
   "outputs": [
    {
     "data": {
      "text/latex": [
       "$\\displaystyle \\left[\\begin{matrix}1 & 0 & 0 & 0 & 0\\\\\\frac{1}{2} & \\frac{1}{2} & 0 & 0 & 0\\\\0 & 1 & 0 & 0 & 0\\\\0 & \\frac{1}{2} & \\frac{1}{2} & 0 & 0\\\\0 & 0 & 1 & 0 & 0\\\\0 & 0 & \\frac{1}{2} & \\frac{1}{2} & 0\\\\0 & 0 & 0 & 1 & 0\\\\0 & 0 & 0 & \\frac{1}{2} & \\frac{1}{2}\\\\0 & 0 & 0 & 0 & 1\\end{matrix}\\right]$"
      ],
      "text/plain": [
       "⎡ 1    0    0    0    0 ⎤\n",
       "⎢                       ⎥\n",
       "⎢1/2  1/2   0    0    0 ⎥\n",
       "⎢                       ⎥\n",
       "⎢ 0    1    0    0    0 ⎥\n",
       "⎢                       ⎥\n",
       "⎢ 0   1/2  1/2   0    0 ⎥\n",
       "⎢                       ⎥\n",
       "⎢ 0    0    1    0    0 ⎥\n",
       "⎢                       ⎥\n",
       "⎢ 0    0   1/2  1/2   0 ⎥\n",
       "⎢                       ⎥\n",
       "⎢ 0    0    0    1    0 ⎥\n",
       "⎢                       ⎥\n",
       "⎢ 0    0    0   1/2  1/2⎥\n",
       "⎢                       ⎥\n",
       "⎣ 0    0    0    0    1 ⎦"
      ]
     },
     "execution_count": 7,
     "metadata": {},
     "output_type": "execute_result"
    }
   ],
   "source": [
    "prolongation(5)"
   ]
  },
  {
   "cell_type": "code",
   "execution_count": 8,
   "id": "b1241db3",
   "metadata": {},
   "outputs": [
    {
     "data": {
      "text/latex": [
       "$\\displaystyle \\left[\\begin{matrix}1 & 0 & 0 & 0 & 0\\\\- \\frac{1}{2 h^{2}} & \\frac{1}{h^{2}} & - \\frac{1}{2 h^{2}} & 0 & 0\\\\0 & - \\frac{1}{2 h^{2}} & \\frac{1}{h^{2}} & - \\frac{1}{2 h^{2}} & 0\\\\0 & 0 & - \\frac{1}{2 h^{2}} & \\frac{1}{h^{2}} & - \\frac{1}{2 h^{2}}\\\\0 & 0 & 0 & 0 & 1\\end{matrix}\\right]$"
      ],
      "text/plain": [
       "⎡ 1     0     0     0     0  ⎤\n",
       "⎢                            ⎥\n",
       "⎢-1     1    -1              ⎥\n",
       "⎢────   ──   ────   0     0  ⎥\n",
       "⎢   2    2      2            ⎥\n",
       "⎢2⋅h    h    2⋅h             ⎥\n",
       "⎢                            ⎥\n",
       "⎢      -1     1    -1        ⎥\n",
       "⎢ 0    ────   ──   ────   0  ⎥\n",
       "⎢         2    2      2      ⎥\n",
       "⎢      2⋅h    h    2⋅h       ⎥\n",
       "⎢                            ⎥\n",
       "⎢            -1     1    -1  ⎥\n",
       "⎢ 0     0    ────   ──   ────⎥\n",
       "⎢               2    2      2⎥\n",
       "⎢            2⋅h    h    2⋅h ⎥\n",
       "⎢                            ⎥\n",
       "⎣ 0     0     0     0     1  ⎦"
      ]
     },
     "execution_count": 8,
     "metadata": {},
     "output_type": "execute_result"
    }
   ],
   "source": [
    "P = prolongation(5)\n",
    "\n",
    "P.T @ A @ P"
   ]
  },
  {
   "cell_type": "markdown",
   "id": "4fab1fc3",
   "metadata": {},
   "source": [
    "Ok, this at least maintains the structure of the original system. Let's try to use the injection as the restriction and the just computed prolongation"
   ]
  },
  {
   "cell_type": "code",
   "execution_count": 9,
   "id": "96ef90c6",
   "metadata": {},
   "outputs": [
    {
     "data": {
      "text/latex": [
       "$\\displaystyle \\left[\\begin{matrix}1 & 0 & 0 & 0 & 0\\\\- \\frac{1}{2 h^{2}} & \\frac{1}{h^{2}} & - \\frac{1}{2 h^{2}} & 0 & 0\\\\0 & - \\frac{1}{2 h^{2}} & \\frac{1}{h^{2}} & - \\frac{1}{2 h^{2}} & 0\\\\0 & 0 & - \\frac{1}{2 h^{2}} & \\frac{1}{h^{2}} & - \\frac{1}{2 h^{2}}\\\\0 & 0 & 0 & 0 & 1\\end{matrix}\\right]$"
      ],
      "text/plain": [
       "⎡ 1     0     0     0     0  ⎤\n",
       "⎢                            ⎥\n",
       "⎢-1     1    -1              ⎥\n",
       "⎢────   ──   ────   0     0  ⎥\n",
       "⎢   2    2      2            ⎥\n",
       "⎢2⋅h    h    2⋅h             ⎥\n",
       "⎢                            ⎥\n",
       "⎢      -1     1    -1        ⎥\n",
       "⎢ 0    ────   ──   ────   0  ⎥\n",
       "⎢         2    2      2      ⎥\n",
       "⎢      2⋅h    h    2⋅h       ⎥\n",
       "⎢                            ⎥\n",
       "⎢            -1     1    -1  ⎥\n",
       "⎢ 0     0    ────   ──   ────⎥\n",
       "⎢               2    2      2⎥\n",
       "⎢            2⋅h    h    2⋅h ⎥\n",
       "⎢                            ⎥\n",
       "⎣ 0     0     0     0     1  ⎦"
      ]
     },
     "execution_count": 9,
     "metadata": {},
     "output_type": "execute_result"
    }
   ],
   "source": [
    "R @ A @ P"
   ]
  },
  {
   "cell_type": "code",
   "execution_count": null,
   "id": "6987c777",
   "metadata": {},
   "outputs": [],
   "source": []
  }
 ],
 "metadata": {
  "kernelspec": {
   "display_name": "Python 3 (ipykernel)",
   "language": "python",
   "name": "python3"
  },
  "language_info": {
   "codemirror_mode": {
    "name": "ipython",
    "version": 3
   },
   "file_extension": ".py",
   "mimetype": "text/x-python",
   "name": "python",
   "nbconvert_exporter": "python",
   "pygments_lexer": "ipython3",
   "version": "3.8.10"
  }
 },
 "nbformat": 4,
 "nbformat_minor": 5
}
