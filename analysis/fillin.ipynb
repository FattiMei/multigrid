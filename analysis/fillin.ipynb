{
 "cells": [
  {
   "cell_type": "markdown",
   "id": "2efebafe",
   "metadata": {},
   "source": [
    "# Direct methods for Poisson problem\n",
    "Studying the fill-in phenomenon"
   ]
  },
  {
   "cell_type": "code",
   "execution_count": 25,
   "id": "db093338",
   "metadata": {},
   "outputs": [],
   "source": [
    "import numpy as np\n",
    "import scipy\n",
    "import matplotlib.pyplot as plt\n",
    "\n",
    "\n",
    "def build_poisson_1D(n):\n",
    "    h = 1 / (n-1)\n",
    "    \n",
    "    A = np.zeros((n,n))\n",
    "    A[0,0] = 1\n",
    "    A[-1,-1] = 1\n",
    "    \n",
    "    for i in range(1,n-1):\n",
    "        A[i,i-1] = -1 / h*h\n",
    "        A[i,i]   =  2 / h*h\n",
    "        A[i,i+1] = -1 / h*h\n",
    "        \n",
    "    return A\n",
    "\n",
    "\n",
    "def display_fillin(A):\n",
    "    P,L,U = scipy.linalg.lu(A)\n",
    "    \n",
    "    fig, (ax1, ax2) = plt.subplots(1,2)\n",
    "    \n",
    "    ax1.spy(L)\n",
    "    ax1.set_title('L')\n",
    "    \n",
    "    ax2.spy(U)\n",
    "    ax2.set_title('U')\n",
    "    \n",
    "    plt.show()"
   ]
  },
  {
   "cell_type": "code",
   "execution_count": 26,
   "id": "1fe96ded",
   "metadata": {},
   "outputs": [
    {
     "data": {
      "image/png": "[encoded data removed]",
      "text/plain": [
       "<Figure size 640x480 with 2 Axes>"
      ]
     },
     "metadata": {},
     "output_type": "display_data"
    }
   ],
   "source": [
    "A = build_poisson_1D(49)\n",
    "display_fillin(A)"
   ]
  },
  {
   "cell_type": "markdown",
   "id": "fe9a86c0",
   "metadata": {},
   "source": [
    "In 1D the structure is preserved. Only information about current node, left neighbour and right neighbour is needed"
   ]
  },
  {
   "cell_type": "code",
   "execution_count": 27,
   "id": "05b6abb5",
   "metadata": {},
   "outputs": [],
   "source": [
    "def build_poisson_2D(n):\n",
    "    h = 1 / (n-1)\n",
    "    A = np.zeros((n*n, n*n))\n",
    "    \n",
    "    for i in range(n*n):\n",
    "        row = i // n\n",
    "        col = i % n\n",
    "        \n",
    "        if row == 0 or row == n-1 or col == 0 or col == n-1:\n",
    "            A[i,i] = 1\n",
    "        else:\n",
    "            A[i,i]   =  4 / h*h\n",
    "            A[i,i-1] = -1 / h*h\n",
    "            A[i,i+1] = -1 / h*h\n",
    "            A[i+n,i] = -1 / h*h\n",
    "            A[i-n,i] = -1 / h*h\n",
    "    \n",
    "    return A"
   ]
  },
  {
   "cell_type": "code",
   "execution_count": 28,
   "id": "c01abc4c",
   "metadata": {},
   "outputs": [
    {
     "data": {
      "image/png": "[encoded data removed]",
      "text/plain": [
       "<Figure size 640x480 with 2 Axes>"
      ]
     },
     "metadata": {},
     "output_type": "display_data"
    }
   ],
   "source": [
    "A = build_poisson_2D(7)\n",
    "display_fillin(A)"
   ]
  }
 ],
 "metadata": {
  "kernelspec": {
   "display_name": "Python 3 (ipykernel)",
   "language": "python",
   "name": "python3"
  },
  "language_info": {
   "codemirror_mode": {
    "name": "ipython",
    "version": 3
   },
   "file_extension": ".py",
   "mimetype": "text/x-python",
   "name": "python",
   "nbconvert_exporter": "python",
   "pygments_lexer": "ipython3",
   "version": "3.8.10"
  }
 },
 "nbformat": 4,
 "nbformat_minor": 5
}
